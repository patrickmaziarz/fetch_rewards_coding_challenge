{
 "cells": [
  {
   "cell_type": "code",
   "execution_count": 1,
   "metadata": {},
   "outputs": [],
   "source": [
    "import collections\n",
    "import json\n",
    "import numpy as np\n",
    "import pandas as pd\n",
    "import regex as re\n",
    "import string"
   ]
  },
  {
   "cell_type": "code",
   "execution_count": 2,
   "metadata": {},
   "outputs": [],
   "source": [
    "text = \"\"\"“Letter 1\n",
    "To Mrs. Saville, England. <Scrapers<\n",
    "St. Petersburgh, Dec. 11th, 17—.\n",
    "You will rejoice to hear that no disaster has accompanied the commencement of an enterprise which you have regarded with such evil forebodings. I arrived here yesterday, and my first task is to assure my $You$ dear sister of my welfare and increasing confidence in the success of my undertaking.\n",
    "I am already far north of London, and as I walk in the streets of Petersburgh, I feel a cold northern breeze play upon my cheeks, which braces my nerves and fills me with delight. Do you understand this feeling? This breeze, which has travelled from the regions towards which I am advancing, gives me a foretaste of those icy climes. Inspirited by this wind of promise, my daydreams become more fervent and vivid. I try in vain to be persuaded that the pole is the seat of frost and desolation; it ever presents $are$ itself to my imagination as the region of beauty and delight. There, Margaret, the sun is for ever visible, its broad disk just skirting the horizon and diffusing a perpetual splendour. There—for with your leave, my sister, I will put some trust in preceding navigators—there snow and frost are banished; and, sailing over a calm sea, we may be wafted to a land surpassing *You're* in wonders and in beauty every region hitherto discovered on the habitable globe. Its productions and features may be without example, as the phenomena of the heavenly bodies undoubtedly are in those undiscovered solitudes. What may not be expected in a country of eternal light? I may there discover the wondrous power which attracts the needle and may regulate a thousand celestial observations that require only this voyage to render their seeming eccentricities consistent for ever. I shall satiate my ardent curiosity with the sight of a part of the world never before visited, and may tread a land never before imprinted by the foot of man. These are my enticements, and they are sufficient to conquer all fear of danger or death and to induce me to commence this laborious voyage with the joy a child feels when he embarks in a little boat, with his holiday mates, on an expedition of discovery up his native river. But supposing all these conjectures to be false, you cannot contest the inestimable benefit which I shall confer on all mankind, to the last generation, by discovering a passage near the pole to those countries, to reach which at present so many months are requisite; or by ascertaining the secret of the magnet, which, if at all possible, can only be effected by an undertaking such as mine.\n",
    "These reflections have dispelled the agitation with which I began my letter, and I feel my heart glow with an enthusiasm which elevates me to heaven, for nothing contributes so much to tranquillise the mind as a steady purpose—a point on which the soul may fix its intellectual eye. This expedition has been the favourite dream of my early years. #Found# I have read with ardour the accounts of the various voyages which have been made in the prospect of arriving at the North Pacific Ocean through the seas which surround the pole. You may remember that a history of all the voyages made for purposes of discovery composed the whole of our good Uncle Thomas’ library. My education was neglected, yet I was passionately fond of reading. These volumes were my study day and night, and my familiarity with them increased that regret which I had felt, as a child, on learning that my father’s dying injunction had forbidden my uncle to allow me to embark in a seafaring life.\n",
    "These visions faded when I perused, for the first time, those poets whose effusions entranced my soul and lifted it to heaven. I also became a poet and for one year lived in a paradise of my own creation; I imagined that I also might obtain a niche in the temple where the names of Homer and Shakespeare are consecrated. You are well acquainted with *killin* my failure and how heavily I bore the disappointment. But just at that time I inherited the fortune of my cousin, and my thoughts were turned into the channel of their earlier bent.\n",
    "Six years have passed since I resolved on my present undertaking. I can, even now, remember the hour from which I dedicated myself to this great enterprise. I commenced by inuring my body to hardship. I accompanied the whale-fishers on several expeditions to the North Sea; I voluntarily endured cold, famine, thirst, and want of sleep; I often #another# worked harder than the common sailors during the day and devoted my nights to the study of mathematics, the theory of medicine, and those branches of physical science from which a naval adventurer might derive the greatest practical advantage. Twice I actually hired myself as an under-mate in a Greenland whaler, and acquitted myself to admiration. I must own I felt a little proud when my captain offered me the second dignity in the vessel and entreated me to remain with the greatest earnestness, so valuable did he consider my services.\n",
    "And now, dear <for< Margaret, do I not deserve to accomplish some great purpose? My life might have been passed in ease and luxury, but I preferred glory to every enticement that wealth placed in my path. Oh, that some encouraging voice would answer in the affirmative! My courage and my resolution is firm; but my hopes fluctuate, and my spirits are often depressed. I am about to proceed on a long and difficult voyage, the emergencies of which will demand all my fortitude: I am required not only to raise the spirits of others, but sometimes to sustain my own, when theirs are failing.\n",
    "This is the most favourable period for travelling in Russia. They fly quickly over the snow in their sledges; the motion is pleasant, and, in my opinion, far more agreeable than that of an English stagecoach. The $amazing!$ cold is not excessive, if you are wrapped in furs—a dress which I have already adopted, for there is a great difference between walking the deck and remaining seated motionless for hours, when no exercise prevents the blood from actually freezing in your veins. I have no ambition to lose my life on the post-road between St. Petersburgh and Archangel. <the<\n",
    "I shall depart for the latter town in a fortnight or three weeks; and my intention is to hire a ship there, which can easily be done by paying the insurance for the owner, *it!* and to engage as many sailors as I think necessary among those who are accustomed to the whale-fishing. I do not intend to sail until the month of June; and when shall I return? Ah, dear sister, how can I answer this question? If I succeed, many, many months, perhaps years, will pass before you and I may meet. If I fail, you will see me again soon, or never.\n",
    "Farewell, my dear, excellent Margaret. Heaven #one!# shower down blessings on you, and save me, that I may again and again testify my gratitude for all your love and kindness.\n",
    "Your affectionate brother,\n",
    "R. Walton<win!<”\n",
    "\"\"\"\n",
    "\n",
    "#Create a copy to clean the text\n",
    "clean_text = text"
   ]
  },
  {
   "cell_type": "markdown",
   "metadata": {},
   "source": [
    "# Data Exploration\n",
    "\n",
    "\n",
    "- Store all distinct words in the text in a dictionary and keep track of the word counts (make sure to strip all punctuation and lower the case of the words)\n",
    "    - Assumptions: Numbers are considered words, hidden words don't count in the word count\n",
    "    - Have to remove the \"hidden\" words before we can store all distinct words\n",
    "    \n",
    "    \n",
    "- There are 4 sentences in this text, composed of words that are “hidden” (bookended by special characters). Find the sentences in the text.\n",
    "    - It looks like the 4 special characters are: <, $, *, #\n",
    "    - We can hard code and search for these characters specifically or we can loop through all possible special characters and see which ones we find in the text bookending hidden words. I will use the latter approach since it can handle more use cases.\n",
    "\n",
    " \n",
    "- Remove the 4 hidden sentences from the original text file and save a clean version of the first chapter of Frankenstein to a text file (call it 'Clean_Frankenstein.txt')\n",
    "    - I'll remove this hidden words at the same time as im extracting them from the text to avoid looping through special characters twice.\n",
    "\n",
    "\n",
    "I'll begin by idenifying the hidden words and storing them in a dictionary. While I am searching for these words I will also remove them from the clean text file so that I can count all the distinct words"
   ]
  },
  {
   "cell_type": "markdown",
   "metadata": {
    "heading_collapsed": true
   },
   "source": [
    "### There are 4 sentences in this text, composed of words that are “hidden” (bookended by special characters). Find the sentences in the text."
   ]
  },
  {
   "cell_type": "code",
   "execution_count": 3,
   "metadata": {
    "hidden": true
   },
   "outputs": [],
   "source": [
    "#We can add any additional special characters here if these dont suffice\n",
    "special_chars = string.punctuation\n",
    "\n",
    "#Set up the hidden word pattern to find any words until the pattern sees a space.\n",
    "#With placeholders for the special characters\n",
    "hidden_word_pattern = '\\{0}([^\\s]+)\\{0}'\n",
    "hidden_words_dict = {}\n",
    "\n",
    "#Loop over all of our special characters an findall occurences of bookended words\n",
    "for special_char in special_chars:\n",
    "    bookended_words = re.findall(hidden_word_pattern.format(special_char), text)\n",
    "    \n",
    "    if len(bookended_words) > 0:\n",
    "        hidden_words_dict[special_char] = bookended_words\n",
    "\n",
    "    #Had to modify the regex a bit to get rid of the special characters as well\n",
    "    clean_text = re.sub('(\\{0}[^\\s]+\\{0})'.format(special_char), '', clean_text)\n"
   ]
  },
  {
   "cell_type": "markdown",
   "metadata": {},
   "source": [
    "### Store all distinct words in the text in a dictionary and keep track of the word counts (make sure to strip all punctuation and lower the case of the words)"
   ]
  },
  {
   "cell_type": "code",
   "execution_count": 4,
   "metadata": {},
   "outputs": [],
   "source": [
    "#Replace new lines with spaces so we can seperate words\n",
    "distinct_words_text = clean_text.lower().replace('\\n', ' ')\n",
    "\n",
    "#Remove anything that isn't a letter or number\n",
    "distinct_words_text = re.sub('[^a-z0-9 ]', '', distinct_words_text)\n",
    "\n",
    "#Replace all spaces with a single space\n",
    "distinct_words_text = re.sub('\\s+', ' ', distinct_words_text)\n",
    "\n",
    "#Replace leading and trailing spaces in the string\n",
    "distinct_words_text = distinct_words_text.strip(' ')"
   ]
  },
  {
   "cell_type": "code",
   "execution_count": 5,
   "metadata": {},
   "outputs": [],
   "source": [
    "distinct_words_list = distinct_words_text.split(' ')\n",
    "\n",
    "#I'll use the built in collections.Counter since it does exactly what I want.\n",
    "#And to avoid writing unecessary code\n",
    "word_counts = collections.Counter(distinct_words_list)\n",
    "\n",
    "distinct_word_dict = dict(word_counts)"
   ]
  },
  {
   "cell_type": "markdown",
   "metadata": {
    "heading_collapsed": true
   },
   "source": [
    "### Save the distinct word dictionary as a JSON file (call it &#39;word_count_dict.json&#39;)"
   ]
  },
  {
   "cell_type": "code",
   "execution_count": 6,
   "metadata": {
    "hidden": true
   },
   "outputs": [],
   "source": [
    "with open('word_count_dict.json', 'w') as outfile:\n",
    "    json.dump(distinct_word_dict, outfile)"
   ]
  },
  {
   "cell_type": "markdown",
   "metadata": {
    "heading_collapsed": true
   },
   "source": [
    "### Save the 4 hidden sentences together as a list of lists, then join them and print them with a for loop"
   ]
  },
  {
   "cell_type": "code",
   "execution_count": 7,
   "metadata": {
    "hidden": true
   },
   "outputs": [
    {
     "name": "stdout",
     "output_type": "stream",
     "text": [
      "Found another one!\n",
      "You are amazing!\n",
      "You're killin it!\n",
      "Scrapers for the win!\n"
     ]
    }
   ],
   "source": [
    "hidden_sentences = list(hidden_words_dict.values())\n",
    "for sentence in hidden_sentences:\n",
    "    print(' '.join(sentence))"
   ]
  },
  {
   "cell_type": "markdown",
   "metadata": {},
   "source": [
    "### Remove the 4 hidden sentences from the original text file and save a clean version of the first chapter of Frankenstein to a text file (call it &#39;Clean_Frankenstein.txt&#39;)"
   ]
  },
  {
   "cell_type": "code",
   "execution_count": 8,
   "metadata": {},
   "outputs": [],
   "source": [
    "#save clean_text to file\n",
    "with open(\"Clean_Frankenstein.txt\", \"wt\") as clean_text_file:\n",
    "    n = clean_text_file.write(clean_text)\n",
    "    clean_text_file.close()\n",
    "    \n",
    "#The new text file has some formatting differences compared to the original, but the hidden words are removed"
   ]
  },
  {
   "cell_type": "code",
   "execution_count": 13,
   "metadata": {
    "collapsed": true
   },
   "outputs": [
    {
     "name": "stdout",
     "output_type": "stream",
     "text": [
      "“Letter 1\n",
      "To Mrs. Saville, England. \n",
      "St. Petersburgh, Dec. 11th, 17—.\n",
      "You will rejoice to hear that no disaster has accompanied the commencement of an enterprise which you have regarded with such evil forebodings. I arrived here yesterday, and my first task is to assure my  dear sister of my welfare and increasing confidence in the success of my undertaking.\n",
      "I am already far north of London, and as I walk in the streets of Petersburgh, I feel a cold northern breeze play upon my cheeks, which braces my nerves and fills me with delight. Do you understand this feeling? This breeze, which has travelled from the regions towards which I am advancing, gives me a foretaste of those icy climes. Inspirited by this wind of promise, my daydreams become more fervent and vivid. I try in vain to be persuaded that the pole is the seat of frost and desolation; it ever presents  itself to my imagination as the region of beauty and delight. There, Margaret, the sun is for ever visible, its broad disk just skirting the horizon and diffusing a perpetual splendour. There—for with your leave, my sister, I will put some trust in preceding navigators—there snow and frost are banished; and, sailing over a calm sea, we may be wafted to a land surpassing  in wonders and in beauty every region hitherto discovered on the habitable globe. Its productions and features may be without example, as the phenomena of the heavenly bodies undoubtedly are in those undiscovered solitudes. What may not be expected in a country of eternal light? I may there discover the wondrous power which attracts the needle and may regulate a thousand celestial observations that require only this voyage to render their seeming eccentricities consistent for ever. I shall satiate my ardent curiosity with the sight of a part of the world never before visited, and may tread a land never before imprinted by the foot of man. These are my enticements, and they are sufficient to conquer all fear of danger or death and to induce me to commence this laborious voyage with the joy a child feels when he embarks in a little boat, with his holiday mates, on an expedition of discovery up his native river. But supposing all these conjectures to be false, you cannot contest the inestimable benefit which I shall confer on all mankind, to the last generation, by discovering a passage near the pole to those countries, to reach which at present so many months are requisite; or by ascertaining the secret of the magnet, which, if at all possible, can only be effected by an undertaking such as mine.\n",
      "These reflections have dispelled the agitation with which I began my letter, and I feel my heart glow with an enthusiasm which elevates me to heaven, for nothing contributes so much to tranquillise the mind as a steady purpose—a point on which the soul may fix its intellectual eye. This expedition has been the favourite dream of my early years.  I have read with ardour the accounts of the various voyages which have been made in the prospect of arriving at the North Pacific Ocean through the seas which surround the pole. You may remember that a history of all the voyages made for purposes of discovery composed the whole of our good Uncle Thomas’ library. My education was neglected, yet I was passionately fond of reading. These volumes were my study day and night, and my familiarity with them increased that regret which I had felt, as a child, on learning that my father’s dying injunction had forbidden my uncle to allow me to embark in a seafaring life.\n",
      "These visions faded when I perused, for the first time, those poets whose effusions entranced my soul and lifted it to heaven. I also became a poet and for one year lived in a paradise of my own creation; I imagined that I also might obtain a niche in the temple where the names of Homer and Shakespeare are consecrated. You are well acquainted with  my failure and how heavily I bore the disappointment. But just at that time I inherited the fortune of my cousin, and my thoughts were turned into the channel of their earlier bent.\n",
      "Six years have passed since I resolved on my present undertaking. I can, even now, remember the hour from which I dedicated myself to this great enterprise. I commenced by inuring my body to hardship. I accompanied the whale-fishers on several expeditions to the North Sea; I voluntarily endured cold, famine, thirst, and want of sleep; I often  worked harder than the common sailors during the day and devoted my nights to the study of mathematics, the theory of medicine, and those branches of physical science from which a naval adventurer might derive the greatest practical advantage. Twice I actually hired myself as an under-mate in a Greenland whaler, and acquitted myself to admiration. I must own I felt a little proud when my captain offered me the second dignity in the vessel and entreated me to remain with the greatest earnestness, so valuable did he consider my services.\n",
      "And now, dear  Margaret, do I not deserve to accomplish some great purpose? My life might have been passed in ease and luxury, but I preferred glory to every enticement that wealth placed in my path. Oh, that some encouraging voice would answer in the affirmative! My courage and my resolution is firm; but my hopes fluctuate, and my spirits are often depressed. I am about to proceed on a long and difficult voyage, the emergencies of which will demand all my fortitude: I am required not only to raise the spirits of others, but sometimes to sustain my own, when theirs are failing.\n",
      "This is the most favourable period for travelling in Russia. They fly quickly over the snow in their sledges; the motion is pleasant, and, in my opinion, far more agreeable than that of an English stagecoach. The  cold is not excessive, if you are wrapped in furs—a dress which I have already adopted, for there is a great difference between walking the deck and remaining seated motionless for hours, when no exercise prevents the blood from actually freezing in your veins. I have no ambition to lose my life on the post-road between St. Petersburgh and Archangel. \n",
      "I shall depart for the latter town in a fortnight or three weeks; and my intention is to hire a ship there, which can easily be done by paying the insurance for the owner,  and to engage as many sailors as I think necessary among those who are accustomed to the whale-fishing. I do not intend to sail until the month of June; and when shall I return? Ah, dear sister, how can I answer this question? If I succeed, many, many months, perhaps years, will pass before you and I may meet. If I fail, you will see me again soon, or never.\n",
      "Farewell, my dear, excellent Margaret. Heaven  shower down blessings on you, and save me, that I may again and again testify my gratitude for all your love and kindness.\n",
      "Your affectionate brother,\n",
      "R. Walton”\n",
      "\n"
     ]
    }
   ],
   "source": [
    "print(clean_text)"
   ]
  },
  {
   "cell_type": "markdown",
   "metadata": {},
   "source": [
    "### Plot a histogram of the count of words by word length for all words in the document"
   ]
  },
  {
   "cell_type": "code",
   "execution_count": 11,
   "metadata": {
    "code_folding": [
     5
    ]
   },
   "outputs": [
    {
     "data": {
      "application/vnd.plotly.v1+json": {
       "config": {
        "plotlyServerURL": "https://plot.ly"
       },
       "data": [
        {
         "alignmentgroup": "True",
         "bingroup": "x",
         "hovertemplate": "variable=word_length<br>value=%{x}<br>count=%{y}<extra></extra>",
         "legendgroup": "word_length",
         "marker": {
          "color": "#4a7eb8"
         },
         "name": "word_length",
         "offsetgroup": "word_length",
         "orientation": "v",
         "showlegend": true,
         "type": "histogram",
         "x": [
          6,
          1,
          2,
          3,
          7,
          7,
          2,
          11,
          3,
          4,
          2,
          3,
          4,
          7,
          4,
          4,
          2,
          8,
          3,
          11,
          3,
          12,
          2,
          2,
          10,
          5,
          4,
          8,
          4,
          4,
          4,
          11,
          1,
          7,
          4,
          9,
          3,
          2,
          5,
          4,
          2,
          6,
          4,
          6,
          7,
          10,
          10,
          2,
          7,
          11,
          2,
          7,
          3,
          5,
          6,
          2,
          4,
          7,
          4,
          1,
          4,
          8,
          6,
          4,
          4,
          6,
          6,
          6,
          5,
          2,
          7,
          2,
          10,
          4,
          7,
          9,
          4,
          7,
          7,
          9,
          5,
          9,
          5,
          3,
          6,
          10,
          2,
          4,
          7,
          9,
          6,
          4,
          7,
          5,
          3,
          4,
          2,
          9,
          4,
          4,
          5,
          10,
          2,
          4,
          8,
          6,
          11,
          6,
          6,
          5,
          8,
          3,
          3,
          7,
          3,
          5,
          4,
          4,
          8,
          7,
          9,
          9,
          9,
          8,
          4,
          5,
          3,
          4,
          5,
          9,
          15,
          4,
          3,
          8,
          7,
          4,
          4,
          3,
          2,
          3,
          6,
          4,
          10,
          7,
          5,
          8,
          10,
          2,
          9,
          5,
          11,
          8,
          7,
          7,
          9,
          8,
          6,
          11,
          12,
          9,
          4,
          3,
          8,
          7,
          7,
          5,
          8,
          8,
          5,
          8,
          6,
          8,
          8,
          9,
          12,
          7,
          4,
          6,
          6,
          5,
          7,
          14,
          10,
          5,
          7,
          6,
          9,
          5,
          4,
          5,
          5,
          6,
          7,
          5,
          9,
          4,
          3,
          5,
          11,
          4,
          10,
          7,
          3,
          4,
          6,
          2,
          5,
          6,
          8,
          9,
          3,
          5,
          5,
          4,
          2,
          7,
          6,
          4,
          3,
          7,
          5,
          10,
          9,
          2,
          6,
          5,
          3,
          9,
          11,
          5,
          6,
          7,
          11,
          7,
          6,
          7,
          4,
          10,
          11,
          7,
          4,
          9,
          5,
          2,
          7,
          2,
          4,
          6,
          9,
          12,
          6,
          6,
          2,
          8,
          3,
          8,
          4,
          11,
          9,
          9,
          5,
          5,
          4,
          10,
          8,
          6,
          7,
          11,
          4,
          12,
          4,
          6,
          8,
          5,
          4,
          3,
          12,
          3,
          4,
          9,
          5,
          5,
          5,
          4,
          6,
          8,
          7,
          7,
          4,
          8,
          8,
          7,
          5,
          7,
          4,
          8,
          8,
          7,
          8,
          8,
          5,
          3,
          4,
          5,
          6,
          7,
          9,
          3,
          9,
          3,
          12,
          4,
          7,
          7,
          4,
          5,
          3,
          5,
          11,
          4,
          9,
          6,
          3,
          4,
          8,
          7,
          5,
          10,
          9,
          5,
          6,
          9,
          4,
          7,
          5,
          7,
          4,
          5,
          5,
          9,
          9,
          6,
          4,
          6,
          4,
          3,
          4,
          5,
          8,
          3,
          8,
          8,
          5,
          6,
          5,
          6,
          5,
          5,
          5,
          11,
          11,
          4,
          10,
          7,
          3,
          7,
          4,
          14,
          9,
          7,
          6,
          8,
          6,
          4,
          7,
          7,
          4,
          3,
          6,
          5,
          8,
          4,
          3,
          4,
          9,
          6,
          5,
          9,
          7,
          4,
          8,
          12,
          7,
          11,
          11,
          7,
          6,
          6,
          4,
          5,
          5,
          6,
          6,
          4,
          6,
          7,
          6,
          7,
          6,
          11,
          6,
          8,
          8,
          8,
          7,
          5,
          10,
          6,
          8,
          9,
          9,
          5,
          8,
          5,
          9,
          9,
          6,
          9,
          10,
          4,
          5,
          7,
          7,
          6,
          7,
          6,
          9,
          6,
          11,
          8,
          3,
          8,
          8,
          7,
          10,
          7,
          4,
          6,
          9,
          5,
          10,
          6,
          6,
          4,
          2,
          11,
          5,
          5,
          6,
          11,
          7,
          10,
          4,
          5,
          9,
          7,
          9,
          5,
          7,
          4,
          9,
          11,
          6,
          9,
          8,
          5,
          6,
          9,
          7,
          6,
          7,
          4,
          10,
          6,
          10,
          6,
          3,
          7,
          7,
          6,
          8,
          7,
          9,
          7,
          10,
          9,
          7,
          5,
          5,
          7,
          10,
          7,
          7,
          4,
          9,
          6,
          10,
          5,
          8,
          8,
          5,
          8,
          5,
          8,
          4,
          8,
          9,
          6,
          6,
          4,
          9,
          5,
          5,
          9,
          4,
          4,
          6,
          4,
          6,
          9,
          5,
          6,
          5,
          9,
          5,
          3,
          10,
          12,
          6,
          4,
          5,
          5,
          4,
          6,
          2,
          8,
          7,
          7,
          4,
          4,
          4,
          3,
          5,
          4,
          8,
          9,
          6,
          4,
          9,
          4,
          7,
          9,
          4,
          8,
          12,
          7,
          1,
          6
         ],
         "xaxis": "x",
         "yaxis": "y"
        }
       ],
       "layout": {
        "bargap": 0.025,
        "barmode": "relative",
        "legend": {
         "title": {
          "text": "variable"
         },
         "tracegroupgap": 0
        },
        "margin": {
         "t": 60
        },
        "showlegend": false,
        "template": {
         "data": {
          "pie": [
           {
            "automargin": true,
            "type": "pie"
           }
          ],
          "scatter": [
           {
            "line": {
             "width": 3
            },
            "marker": {
             "size": 9
            },
            "type": "scatter"
           }
          ],
          "scatter3d": [
           {
            "line": {
             "width": 3
            },
            "marker": {
             "size": 9
            },
            "type": "scatter3d"
           }
          ],
          "scattergeo": [
           {
            "line": {
             "width": 3
            },
            "marker": {
             "size": 9
            },
            "type": "scattergeo"
           }
          ],
          "scattergl": [
           {
            "line": {
             "width": 3
            },
            "marker": {
             "size": 9
            },
            "type": "scattergl"
           }
          ],
          "scatterpolar": [
           {
            "line": {
             "width": 3
            },
            "marker": {
             "size": 9
            },
            "type": "scatterpolar"
           }
          ],
          "scatterpolargl": [
           {
            "line": {
             "width": 3
            },
            "marker": {
             "size": 9
            },
            "type": "scatterpolargl"
           }
          ],
          "scatterternary": [
           {
            "line": {
             "width": 3
            },
            "marker": {
             "size": 9
            },
            "type": "scatterternary"
           }
          ],
          "table": [
           {
            "cells": {
             "height": 30
            },
            "header": {
             "height": 36
            },
            "type": "table"
           }
          ]
         },
         "layout": {
          "font": {
           "size": 18
          },
          "xaxis": {
           "title": {
            "standoff": 15
           }
          },
          "yaxis": {
           "title": {
            "standoff": 15
           }
          }
         }
        },
        "title": {
         "text": "Count of Words by Word Length"
        },
        "xaxis": {
         "anchor": "y",
         "domain": [
          0,
          1
         ],
         "rangemode": "tozero",
         "title": {
          "text": "Word Length"
         }
        },
        "yaxis": {
         "anchor": "x",
         "domain": [
          0,
          1
         ],
         "title": {
          "text": "Count"
         }
        }
       }
      },
      "text/html": [
       "<div>                            <div id=\"64efd55a-aef2-413a-bd40-7fd8906d705f\" class=\"plotly-graph-div\" style=\"height:525px; width:100%;\"></div>            <script type=\"text/javascript\">                require([\"plotly\"], function(Plotly) {                    window.PLOTLYENV=window.PLOTLYENV || {};                                    if (document.getElementById(\"64efd55a-aef2-413a-bd40-7fd8906d705f\")) {                    Plotly.newPlot(                        \"64efd55a-aef2-413a-bd40-7fd8906d705f\",                        [{\"alignmentgroup\": \"True\", \"bingroup\": \"x\", \"hovertemplate\": \"variable=word_length<br>value=%{x}<br>count=%{y}<extra></extra>\", \"legendgroup\": \"word_length\", \"marker\": {\"color\": \"#4a7eb8\"}, \"name\": \"word_length\", \"offsetgroup\": \"word_length\", \"orientation\": \"v\", \"showlegend\": true, \"type\": \"histogram\", \"x\": [6, 1, 2, 3, 7, 7, 2, 11, 3, 4, 2, 3, 4, 7, 4, 4, 2, 8, 3, 11, 3, 12, 2, 2, 10, 5, 4, 8, 4, 4, 4, 11, 1, 7, 4, 9, 3, 2, 5, 4, 2, 6, 4, 6, 7, 10, 10, 2, 7, 11, 2, 7, 3, 5, 6, 2, 4, 7, 4, 1, 4, 8, 6, 4, 4, 6, 6, 6, 5, 2, 7, 2, 10, 4, 7, 9, 4, 7, 7, 9, 5, 9, 5, 3, 6, 10, 2, 4, 7, 9, 6, 4, 7, 5, 3, 4, 2, 9, 4, 4, 5, 10, 2, 4, 8, 6, 11, 6, 6, 5, 8, 3, 3, 7, 3, 5, 4, 4, 8, 7, 9, 9, 9, 8, 4, 5, 3, 4, 5, 9, 15, 4, 3, 8, 7, 4, 4, 3, 2, 3, 6, 4, 10, 7, 5, 8, 10, 2, 9, 5, 11, 8, 7, 7, 9, 8, 6, 11, 12, 9, 4, 3, 8, 7, 7, 5, 8, 8, 5, 8, 6, 8, 8, 9, 12, 7, 4, 6, 6, 5, 7, 14, 10, 5, 7, 6, 9, 5, 4, 5, 5, 6, 7, 5, 9, 4, 3, 5, 11, 4, 10, 7, 3, 4, 6, 2, 5, 6, 8, 9, 3, 5, 5, 4, 2, 7, 6, 4, 3, 7, 5, 10, 9, 2, 6, 5, 3, 9, 11, 5, 6, 7, 11, 7, 6, 7, 4, 10, 11, 7, 4, 9, 5, 2, 7, 2, 4, 6, 9, 12, 6, 6, 2, 8, 3, 8, 4, 11, 9, 9, 5, 5, 4, 10, 8, 6, 7, 11, 4, 12, 4, 6, 8, 5, 4, 3, 12, 3, 4, 9, 5, 5, 5, 4, 6, 8, 7, 7, 4, 8, 8, 7, 5, 7, 4, 8, 8, 7, 8, 8, 5, 3, 4, 5, 6, 7, 9, 3, 9, 3, 12, 4, 7, 7, 4, 5, 3, 5, 11, 4, 9, 6, 3, 4, 8, 7, 5, 10, 9, 5, 6, 9, 4, 7, 5, 7, 4, 5, 5, 9, 9, 6, 4, 6, 4, 3, 4, 5, 8, 3, 8, 8, 5, 6, 5, 6, 5, 5, 5, 11, 11, 4, 10, 7, 3, 7, 4, 14, 9, 7, 6, 8, 6, 4, 7, 7, 4, 3, 6, 5, 8, 4, 3, 4, 9, 6, 5, 9, 7, 4, 8, 12, 7, 11, 11, 7, 6, 6, 4, 5, 5, 6, 6, 4, 6, 7, 6, 7, 6, 11, 6, 8, 8, 8, 7, 5, 10, 6, 8, 9, 9, 5, 8, 5, 9, 9, 6, 9, 10, 4, 5, 7, 7, 6, 7, 6, 9, 6, 11, 8, 3, 8, 8, 7, 10, 7, 4, 6, 9, 5, 10, 6, 6, 4, 2, 11, 5, 5, 6, 11, 7, 10, 4, 5, 9, 7, 9, 5, 7, 4, 9, 11, 6, 9, 8, 5, 6, 9, 7, 6, 7, 4, 10, 6, 10, 6, 3, 7, 7, 6, 8, 7, 9, 7, 10, 9, 7, 5, 5, 7, 10, 7, 7, 4, 9, 6, 10, 5, 8, 8, 5, 8, 5, 8, 4, 8, 9, 6, 6, 4, 9, 5, 5, 9, 4, 4, 6, 4, 6, 9, 5, 6, 5, 9, 5, 3, 10, 12, 6, 4, 5, 5, 4, 6, 2, 8, 7, 7, 4, 4, 4, 3, 5, 4, 8, 9, 6, 4, 9, 4, 7, 9, 4, 8, 12, 7, 1, 6], \"xaxis\": \"x\", \"yaxis\": \"y\"}],                        {\"bargap\": 0.025, \"barmode\": \"relative\", \"legend\": {\"title\": {\"text\": \"variable\"}, \"tracegroupgap\": 0}, \"margin\": {\"t\": 60}, \"showlegend\": false, \"template\": {\"data\": {\"pie\": [{\"automargin\": true, \"type\": \"pie\"}], \"scatter\": [{\"line\": {\"width\": 3}, \"marker\": {\"size\": 9}, \"type\": \"scatter\"}], \"scatter3d\": [{\"line\": {\"width\": 3}, \"marker\": {\"size\": 9}, \"type\": \"scatter3d\"}], \"scattergeo\": [{\"line\": {\"width\": 3}, \"marker\": {\"size\": 9}, \"type\": \"scattergeo\"}], \"scattergl\": [{\"line\": {\"width\": 3}, \"marker\": {\"size\": 9}, \"type\": \"scattergl\"}], \"scatterpolar\": [{\"line\": {\"width\": 3}, \"marker\": {\"size\": 9}, \"type\": \"scatterpolar\"}], \"scatterpolargl\": [{\"line\": {\"width\": 3}, \"marker\": {\"size\": 9}, \"type\": \"scatterpolargl\"}], \"scatterternary\": [{\"line\": {\"width\": 3}, \"marker\": {\"size\": 9}, \"type\": \"scatterternary\"}], \"table\": [{\"cells\": {\"height\": 30}, \"header\": {\"height\": 36}, \"type\": \"table\"}]}, \"layout\": {\"font\": {\"size\": 18}, \"xaxis\": {\"title\": {\"standoff\": 15}}, \"yaxis\": {\"title\": {\"standoff\": 15}}}}, \"title\": {\"text\": \"Count of Words by Word Length\"}, \"xaxis\": {\"anchor\": \"y\", \"domain\": [0.0, 1.0], \"rangemode\": \"tozero\", \"title\": {\"text\": \"Word Length\"}}, \"yaxis\": {\"anchor\": \"x\", \"domain\": [0.0, 1.0], \"title\": {\"text\": \"Count\"}}},                        {\"responsive\": true}                    ).then(function(){\n",
       "                            \n",
       "var gd = document.getElementById('64efd55a-aef2-413a-bd40-7fd8906d705f');\n",
       "var x = new MutationObserver(function (mutations, observer) {{\n",
       "        var display = window.getComputedStyle(gd).display;\n",
       "        if (!display || display === 'none') {{\n",
       "            console.log([gd, 'removed!']);\n",
       "            Plotly.purge(gd);\n",
       "            observer.disconnect();\n",
       "        }}\n",
       "}});\n",
       "\n",
       "// Listen for the removal of the full notebook cells\n",
       "var notebookContainer = gd.closest('#notebook-container');\n",
       "if (notebookContainer) {{\n",
       "    x.observe(notebookContainer, {childList: true});\n",
       "}}\n",
       "\n",
       "// Listen for the clearing of the current output cell\n",
       "var outputEl = gd.closest('.output');\n",
       "if (outputEl) {{\n",
       "    x.observe(outputEl, {childList: true});\n",
       "}}\n",
       "\n",
       "                        })                };                });            </script>        </div>"
      ]
     },
     "metadata": {},
     "output_type": "display_data"
    }
   ],
   "source": [
    "df = pd.DataFrame(distinct_word_dict.items(), columns = ['word', 'count'])\n",
    "df['word_length'] = df['word'].str.len()\n",
    "\n",
    "#May need to install plotly if it isn't installed already\n",
    "fig = df['word_length'].hist(backend = 'plotly')\n",
    "\n",
    "fig.update_layout(\n",
    "    title = 'Count of Words by Word Length',\n",
    "    bargap = 0.025,\n",
    "    template = 'presentation',\n",
    "    xaxis = dict(title = 'Word Length'),\n",
    "    yaxis = dict(title = 'Count'),\n",
    "    showlegend = False\n",
    ")\n",
    "\n",
    "fig.update_xaxes(rangemode=\"tozero\")\n",
    "fig.update_traces(marker_color = '#4a7eb8')"
   ]
  },
  {
   "cell_type": "markdown",
   "metadata": {},
   "source": [
    "Incase the graph doesn't generate in your notebook\n",
    "![title](histogram.png)"
   ]
  }
 ],
 "metadata": {
  "kernelspec": {
   "display_name": "Python 3",
   "language": "python",
   "name": "python3"
  },
  "language_info": {
   "codemirror_mode": {
    "name": "ipython",
    "version": 3
   },
   "file_extension": ".py",
   "mimetype": "text/x-python",
   "name": "python",
   "nbconvert_exporter": "python",
   "pygments_lexer": "ipython3",
   "version": "3.8.5"
  }
 },
 "nbformat": 4,
 "nbformat_minor": 4
}
